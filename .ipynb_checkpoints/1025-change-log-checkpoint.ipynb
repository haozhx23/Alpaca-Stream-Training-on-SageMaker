{
 "cells": [
  {
   "cell_type": "code",
   "execution_count": null,
   "id": "4779e555-804b-4a8b-83ab-6c0950497af2",
   "metadata": {},
   "outputs": [],
   "source": []
  },
  {
   "cell_type": "code",
   "execution_count": null,
   "id": "0b253975-a09f-4f41-8ece-7bae6ca51960",
   "metadata": {},
   "outputs": [],
   "source": []
  },
  {
   "cell_type": "code",
   "execution_count": null,
   "id": "95164b64-bca6-4191-98d5-105207d34764",
   "metadata": {},
   "outputs": [],
   "source": [
    "# 迭代过程\n",
    "train-batch-single-file.py\n",
    "改动点在class SupervisedDataset(Dataset)，主要是基于raw data修改一下模板\n",
    "\n",
    "train=stream-alpaca.py\n",
    "stream with single row\n",
    "\n",
    "train-batch-file-list.py\n",
    "load all files to mem and works as a single file\n",
    "\n",
    "train-stream-wiki.py\n",
    "stream with single row, wiki format\n",
    "\n",
    "train-stream-batch-wiki.py\n",
    "stream dataset, load with batches rather than a single line; \n",
    "- shuffle的参数buffer_size跟batch模式不一样\n",
    "- train_data.with_format(\"torch\")\n",
    "- tokenization中需要pad到max_length，否则报错\n",
    "ValueError: Unable to create tensor, you should probably activate truncation and/or padding with 'padding=True' 'truncation=True' to have batched tensors with the same length. Perhaps your features (`labels` in this case) have excessive nesting (inputs type `list` where type `int` is expected).\n",
    "https://github.com/huggingface/transformers/issues/15505\n",
    "- 跟single row是否有区别？"
   ]
  },
  {
   "cell_type": "code",
   "execution_count": null,
   "id": "726fc882-9276-476c-991a-e5c1d0a46d6b",
   "metadata": {},
   "outputs": [],
   "source": []
  },
  {
   "cell_type": "code",
   "execution_count": null,
   "id": "97d09bc3-1fb9-4c50-ace0-cd6a40651de5",
   "metadata": {},
   "outputs": [],
   "source": [
    "# 训练\n",
    "- 将不同的ds配置拷贝到对应路径，并在train.sh中修改\n",
    "- 在deepspeed launcher中修改训练文件\n",
    "- 如果是batch模式，Estimator中需要指定s3的数据路径，代码中需要有s5cmd copy；fit()不需要带data channel\n",
    "- 如果是stream模式，在fit中指定data channel路径；如果channel名称有变化，需要在train.sh中修改data_path"
   ]
  },
  {
   "cell_type": "code",
   "execution_count": null,
   "id": "56b22ece-e0eb-45b4-a63f-b3bb9b90e94a",
   "metadata": {},
   "outputs": [],
   "source": []
  },
  {
   "cell_type": "code",
   "execution_count": null,
   "id": "fd756e87-a2f7-4b10-942a-e39a45525169",
   "metadata": {},
   "outputs": [],
   "source": []
  }
 ],
 "metadata": {
  "kernelspec": {
   "display_name": "conda_python3",
   "language": "python",
   "name": "conda_python3"
  },
  "language_info": {
   "codemirror_mode": {
    "name": "ipython",
    "version": 3
   },
   "file_extension": ".py",
   "mimetype": "text/x-python",
   "name": "python",
   "nbconvert_exporter": "python",
   "pygments_lexer": "ipython3",
   "version": "3.10.12"
  }
 },
 "nbformat": 4,
 "nbformat_minor": 5
}
